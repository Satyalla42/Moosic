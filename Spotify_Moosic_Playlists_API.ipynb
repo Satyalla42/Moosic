{
  "nbformat": 4,
  "nbformat_minor": 0,
  "metadata": {
    "colab": {
      "provenance": []
    },
    "kernelspec": {
      "name": "python3",
      "display_name": "Python 3"
    },
    "language_info": {
      "name": "python"
    }
  },
  "cells": [
    {
      "cell_type": "markdown",
      "source": [
        "# Moosic\n",
        "## Spotify Project using Kmeans for clustering songs and uplaoding them into playlists via API"
      ],
      "metadata": {
        "id": "JKL-eOLrZ84W"
      }
    },
    {
      "cell_type": "markdown",
      "source": [
        "## 1. Import libraries\n"
      ],
      "metadata": {
        "id": "LmrDs-rMaGah"
      }
    },
    {
      "cell_type": "code",
      "execution_count": null,
      "metadata": {
        "id": "qRSpAeDZ9q_7"
      },
      "outputs": [],
      "source": [
        "import pandas as pd\n",
        "import matplotlib.pyplot as plt\n",
        "import seaborn as sns\n",
        "from sklearn.preprocessing import MinMaxScaler\n",
        "from sklearn.cluster import KMeans\n",
        "\n",
        "\n",
        "from sklearn import set_config\n",
        "set_config(transform_output='pandas')\n",
        "import spotipy\n",
        "import pickle\n",
        "from spotipy.oauth2 import SpotifyOAuth\n",
        "from google.colab import userdata # only in Google Colab for secret management\n",
        "\n",
        "from IPython.display import display, HTML"
      ]
    },
    {
      "cell_type": "markdown",
      "source": [
        "## 2. Read the file from drive and drop columns\n"
      ],
      "metadata": {
        "id": "xDD6Vc-aaKp8"
      }
    },
    {
      "cell_type": "code",
      "source": [
        "url = \"https://drive.google.com/file/d/1TT_enEgswh6NxZyQi2x6hdqpa7k_0tlX/view?usp=sharing\"\n",
        "path = f\"https://drive.google.com/uc?export=download&id={url.split('/')[-2]}\"\n",
        "original_cleaned_songs_df = pd.read_csv(path)\n",
        "\n",
        "# create a copy\n",
        "songs_df = original_cleaned_songs_df.copy()\n",
        "\n",
        "# data cleaning\n",
        "#songs_df.columns = songs_df.columns.str.strip()\n",
        "#songs_df = songs_df.drop([ 'artist', 'duration_ms', 'time_signature', 'key', 'mode', 'type'], axis=1)\n",
        "\n",
        "songs_df.head()"
      ],
      "metadata": {
        "colab": {
          "base_uri": "https://localhost:8080/",
          "height": 443
        },
        "id": "6ZrmoyaF9xOf",
        "outputId": "ed084556-401e-4e18-b416-ecef9eb2fd13"
      },
      "execution_count": null,
      "outputs": [
        {
          "output_type": "execute_result",
          "data": {
            "text/plain": [
              "                                                name  danceability  energy  \\\n",
              "0                        Se Eu Quiser Falar Com Deus         658.0  259.00   \n",
              "1                                   Saudade De Bahia         742.0  399.00   \n",
              "2  Canta Canta, Minha Gente                      ...         851.0    0.73   \n",
              "3                                      Mulher Eu Sei         705.0  502.00   \n",
              "4                                        Rosa Morena         651.0  119.00   \n",
              "\n",
              "   loudness  speechiness  acousticness  instrumentalness  liveness  valence  \\\n",
              "0   -13.141        705.0         694.0          0.000059     975.0    306.0   \n",
              "1   -12.646        346.0         217.0          0.000002     107.0    693.0   \n",
              "2   -11.048        347.0         453.0          0.000063     124.0    905.0   \n",
              "3   -18.115        471.0         879.0          0.000041     386.0    524.0   \n",
              "4   -19.807         38.0         916.0        343.000000     104.0    402.0   \n",
              "\n",
              "     tempo                      id  \\\n",
              "0  110.376  1n7JnwviZ7zf0LR1tcGFq7   \n",
              "1  125.039  5QGM1U0eCYrQuwSJwTm5Zq   \n",
              "2   93.698  0NLIFSZxPzQhCwnkn5PJYs   \n",
              "3  106.802  3mXqOdlLE1k67WsAxryPFs   \n",
              "4  120.941  7bSzjzjTkWT2CkIPPdp0eA   \n",
              "\n",
              "                                                html  cluster  \n",
              "0  https://open.spotify.com/track/1n7JnwviZ7zf0LR...      0.0  \n",
              "1  https://open.spotify.com/track/5QGM1U0eCYrQuwS...      4.0  \n",
              "2  https://open.spotify.com/track/0NLIFSZxPzQhCwn...      8.0  \n",
              "3  https://open.spotify.com/track/3mXqOdlLE1k67Ws...      4.0  \n",
              "4  https://open.spotify.com/track/7bSzjzjTkWT2CkI...      6.0  "
            ],
            "text/html": [
              "\n",
              "  <div id=\"df-31fb38ba-586a-4f22-b5d3-b9982b8952a2\" class=\"colab-df-container\">\n",
              "    <div>\n",
              "<style scoped>\n",
              "    .dataframe tbody tr th:only-of-type {\n",
              "        vertical-align: middle;\n",
              "    }\n",
              "\n",
              "    .dataframe tbody tr th {\n",
              "        vertical-align: top;\n",
              "    }\n",
              "\n",
              "    .dataframe thead th {\n",
              "        text-align: right;\n",
              "    }\n",
              "</style>\n",
              "<table border=\"1\" class=\"dataframe\">\n",
              "  <thead>\n",
              "    <tr style=\"text-align: right;\">\n",
              "      <th></th>\n",
              "      <th>name</th>\n",
              "      <th>danceability</th>\n",
              "      <th>energy</th>\n",
              "      <th>loudness</th>\n",
              "      <th>speechiness</th>\n",
              "      <th>acousticness</th>\n",
              "      <th>instrumentalness</th>\n",
              "      <th>liveness</th>\n",
              "      <th>valence</th>\n",
              "      <th>tempo</th>\n",
              "      <th>id</th>\n",
              "      <th>html</th>\n",
              "      <th>cluster</th>\n",
              "    </tr>\n",
              "  </thead>\n",
              "  <tbody>\n",
              "    <tr>\n",
              "      <th>0</th>\n",
              "      <td>Se Eu Quiser Falar Com Deus</td>\n",
              "      <td>658.0</td>\n",
              "      <td>259.00</td>\n",
              "      <td>-13.141</td>\n",
              "      <td>705.0</td>\n",
              "      <td>694.0</td>\n",
              "      <td>0.000059</td>\n",
              "      <td>975.0</td>\n",
              "      <td>306.0</td>\n",
              "      <td>110.376</td>\n",
              "      <td>1n7JnwviZ7zf0LR1tcGFq7</td>\n",
              "      <td>https://open.spotify.com/track/1n7JnwviZ7zf0LR...</td>\n",
              "      <td>0.0</td>\n",
              "    </tr>\n",
              "    <tr>\n",
              "      <th>1</th>\n",
              "      <td>Saudade De Bahia</td>\n",
              "      <td>742.0</td>\n",
              "      <td>399.00</td>\n",
              "      <td>-12.646</td>\n",
              "      <td>346.0</td>\n",
              "      <td>217.0</td>\n",
              "      <td>0.000002</td>\n",
              "      <td>107.0</td>\n",
              "      <td>693.0</td>\n",
              "      <td>125.039</td>\n",
              "      <td>5QGM1U0eCYrQuwSJwTm5Zq</td>\n",
              "      <td>https://open.spotify.com/track/5QGM1U0eCYrQuwS...</td>\n",
              "      <td>4.0</td>\n",
              "    </tr>\n",
              "    <tr>\n",
              "      <th>2</th>\n",
              "      <td>Canta Canta, Minha Gente                      ...</td>\n",
              "      <td>851.0</td>\n",
              "      <td>0.73</td>\n",
              "      <td>-11.048</td>\n",
              "      <td>347.0</td>\n",
              "      <td>453.0</td>\n",
              "      <td>0.000063</td>\n",
              "      <td>124.0</td>\n",
              "      <td>905.0</td>\n",
              "      <td>93.698</td>\n",
              "      <td>0NLIFSZxPzQhCwnkn5PJYs</td>\n",
              "      <td>https://open.spotify.com/track/0NLIFSZxPzQhCwn...</td>\n",
              "      <td>8.0</td>\n",
              "    </tr>\n",
              "    <tr>\n",
              "      <th>3</th>\n",
              "      <td>Mulher Eu Sei</td>\n",
              "      <td>705.0</td>\n",
              "      <td>502.00</td>\n",
              "      <td>-18.115</td>\n",
              "      <td>471.0</td>\n",
              "      <td>879.0</td>\n",
              "      <td>0.000041</td>\n",
              "      <td>386.0</td>\n",
              "      <td>524.0</td>\n",
              "      <td>106.802</td>\n",
              "      <td>3mXqOdlLE1k67WsAxryPFs</td>\n",
              "      <td>https://open.spotify.com/track/3mXqOdlLE1k67Ws...</td>\n",
              "      <td>4.0</td>\n",
              "    </tr>\n",
              "    <tr>\n",
              "      <th>4</th>\n",
              "      <td>Rosa Morena</td>\n",
              "      <td>651.0</td>\n",
              "      <td>119.00</td>\n",
              "      <td>-19.807</td>\n",
              "      <td>38.0</td>\n",
              "      <td>916.0</td>\n",
              "      <td>343.000000</td>\n",
              "      <td>104.0</td>\n",
              "      <td>402.0</td>\n",
              "      <td>120.941</td>\n",
              "      <td>7bSzjzjTkWT2CkIPPdp0eA</td>\n",
              "      <td>https://open.spotify.com/track/7bSzjzjTkWT2CkI...</td>\n",
              "      <td>6.0</td>\n",
              "    </tr>\n",
              "  </tbody>\n",
              "</table>\n",
              "</div>\n",
              "    <div class=\"colab-df-buttons\">\n",
              "\n",
              "  <div class=\"colab-df-container\">\n",
              "    <button class=\"colab-df-convert\" onclick=\"convertToInteractive('df-31fb38ba-586a-4f22-b5d3-b9982b8952a2')\"\n",
              "            title=\"Convert this dataframe to an interactive table.\"\n",
              "            style=\"display:none;\">\n",
              "\n",
              "  <svg xmlns=\"http://www.w3.org/2000/svg\" height=\"24px\" viewBox=\"0 -960 960 960\">\n",
              "    <path d=\"M120-120v-720h720v720H120Zm60-500h600v-160H180v160Zm220 220h160v-160H400v160Zm0 220h160v-160H400v160ZM180-400h160v-160H180v160Zm440 0h160v-160H620v160ZM180-180h160v-160H180v160Zm440 0h160v-160H620v160Z\"/>\n",
              "  </svg>\n",
              "    </button>\n",
              "\n",
              "  <style>\n",
              "    .colab-df-container {\n",
              "      display:flex;\n",
              "      gap: 12px;\n",
              "    }\n",
              "\n",
              "    .colab-df-convert {\n",
              "      background-color: #E8F0FE;\n",
              "      border: none;\n",
              "      border-radius: 50%;\n",
              "      cursor: pointer;\n",
              "      display: none;\n",
              "      fill: #1967D2;\n",
              "      height: 32px;\n",
              "      padding: 0 0 0 0;\n",
              "      width: 32px;\n",
              "    }\n",
              "\n",
              "    .colab-df-convert:hover {\n",
              "      background-color: #E2EBFA;\n",
              "      box-shadow: 0px 1px 2px rgba(60, 64, 67, 0.3), 0px 1px 3px 1px rgba(60, 64, 67, 0.15);\n",
              "      fill: #174EA6;\n",
              "    }\n",
              "\n",
              "    .colab-df-buttons div {\n",
              "      margin-bottom: 4px;\n",
              "    }\n",
              "\n",
              "    [theme=dark] .colab-df-convert {\n",
              "      background-color: #3B4455;\n",
              "      fill: #D2E3FC;\n",
              "    }\n",
              "\n",
              "    [theme=dark] .colab-df-convert:hover {\n",
              "      background-color: #434B5C;\n",
              "      box-shadow: 0px 1px 3px 1px rgba(0, 0, 0, 0.15);\n",
              "      filter: drop-shadow(0px 1px 2px rgba(0, 0, 0, 0.3));\n",
              "      fill: #FFFFFF;\n",
              "    }\n",
              "  </style>\n",
              "\n",
              "    <script>\n",
              "      const buttonEl =\n",
              "        document.querySelector('#df-31fb38ba-586a-4f22-b5d3-b9982b8952a2 button.colab-df-convert');\n",
              "      buttonEl.style.display =\n",
              "        google.colab.kernel.accessAllowed ? 'block' : 'none';\n",
              "\n",
              "      async function convertToInteractive(key) {\n",
              "        const element = document.querySelector('#df-31fb38ba-586a-4f22-b5d3-b9982b8952a2');\n",
              "        const dataTable =\n",
              "          await google.colab.kernel.invokeFunction('convertToInteractive',\n",
              "                                                    [key], {});\n",
              "        if (!dataTable) return;\n",
              "\n",
              "        const docLinkHtml = 'Like what you see? Visit the ' +\n",
              "          '<a target=\"_blank\" href=https://colab.research.google.com/notebooks/data_table.ipynb>data table notebook</a>'\n",
              "          + ' to learn more about interactive tables.';\n",
              "        element.innerHTML = '';\n",
              "        dataTable['output_type'] = 'display_data';\n",
              "        await google.colab.output.renderOutput(dataTable, element);\n",
              "        const docLink = document.createElement('div');\n",
              "        docLink.innerHTML = docLinkHtml;\n",
              "        element.appendChild(docLink);\n",
              "      }\n",
              "    </script>\n",
              "  </div>\n",
              "\n",
              "\n",
              "    <div id=\"df-942fa15d-ad0a-484a-b7a0-90d49996838e\">\n",
              "      <button class=\"colab-df-quickchart\" onclick=\"quickchart('df-942fa15d-ad0a-484a-b7a0-90d49996838e')\"\n",
              "                title=\"Suggest charts\"\n",
              "                style=\"display:none;\">\n",
              "\n",
              "<svg xmlns=\"http://www.w3.org/2000/svg\" height=\"24px\"viewBox=\"0 0 24 24\"\n",
              "     width=\"24px\">\n",
              "    <g>\n",
              "        <path d=\"M19 3H5c-1.1 0-2 .9-2 2v14c0 1.1.9 2 2 2h14c1.1 0 2-.9 2-2V5c0-1.1-.9-2-2-2zM9 17H7v-7h2v7zm4 0h-2V7h2v10zm4 0h-2v-4h2v4z\"/>\n",
              "    </g>\n",
              "</svg>\n",
              "      </button>\n",
              "\n",
              "<style>\n",
              "  .colab-df-quickchart {\n",
              "      --bg-color: #E8F0FE;\n",
              "      --fill-color: #1967D2;\n",
              "      --hover-bg-color: #E2EBFA;\n",
              "      --hover-fill-color: #174EA6;\n",
              "      --disabled-fill-color: #AAA;\n",
              "      --disabled-bg-color: #DDD;\n",
              "  }\n",
              "\n",
              "  [theme=dark] .colab-df-quickchart {\n",
              "      --bg-color: #3B4455;\n",
              "      --fill-color: #D2E3FC;\n",
              "      --hover-bg-color: #434B5C;\n",
              "      --hover-fill-color: #FFFFFF;\n",
              "      --disabled-bg-color: #3B4455;\n",
              "      --disabled-fill-color: #666;\n",
              "  }\n",
              "\n",
              "  .colab-df-quickchart {\n",
              "    background-color: var(--bg-color);\n",
              "    border: none;\n",
              "    border-radius: 50%;\n",
              "    cursor: pointer;\n",
              "    display: none;\n",
              "    fill: var(--fill-color);\n",
              "    height: 32px;\n",
              "    padding: 0;\n",
              "    width: 32px;\n",
              "  }\n",
              "\n",
              "  .colab-df-quickchart:hover {\n",
              "    background-color: var(--hover-bg-color);\n",
              "    box-shadow: 0 1px 2px rgba(60, 64, 67, 0.3), 0 1px 3px 1px rgba(60, 64, 67, 0.15);\n",
              "    fill: var(--button-hover-fill-color);\n",
              "  }\n",
              "\n",
              "  .colab-df-quickchart-complete:disabled,\n",
              "  .colab-df-quickchart-complete:disabled:hover {\n",
              "    background-color: var(--disabled-bg-color);\n",
              "    fill: var(--disabled-fill-color);\n",
              "    box-shadow: none;\n",
              "  }\n",
              "\n",
              "  .colab-df-spinner {\n",
              "    border: 2px solid var(--fill-color);\n",
              "    border-color: transparent;\n",
              "    border-bottom-color: var(--fill-color);\n",
              "    animation:\n",
              "      spin 1s steps(1) infinite;\n",
              "  }\n",
              "\n",
              "  @keyframes spin {\n",
              "    0% {\n",
              "      border-color: transparent;\n",
              "      border-bottom-color: var(--fill-color);\n",
              "      border-left-color: var(--fill-color);\n",
              "    }\n",
              "    20% {\n",
              "      border-color: transparent;\n",
              "      border-left-color: var(--fill-color);\n",
              "      border-top-color: var(--fill-color);\n",
              "    }\n",
              "    30% {\n",
              "      border-color: transparent;\n",
              "      border-left-color: var(--fill-color);\n",
              "      border-top-color: var(--fill-color);\n",
              "      border-right-color: var(--fill-color);\n",
              "    }\n",
              "    40% {\n",
              "      border-color: transparent;\n",
              "      border-right-color: var(--fill-color);\n",
              "      border-top-color: var(--fill-color);\n",
              "    }\n",
              "    60% {\n",
              "      border-color: transparent;\n",
              "      border-right-color: var(--fill-color);\n",
              "    }\n",
              "    80% {\n",
              "      border-color: transparent;\n",
              "      border-right-color: var(--fill-color);\n",
              "      border-bottom-color: var(--fill-color);\n",
              "    }\n",
              "    90% {\n",
              "      border-color: transparent;\n",
              "      border-bottom-color: var(--fill-color);\n",
              "    }\n",
              "  }\n",
              "</style>\n",
              "\n",
              "      <script>\n",
              "        async function quickchart(key) {\n",
              "          const quickchartButtonEl =\n",
              "            document.querySelector('#' + key + ' button');\n",
              "          quickchartButtonEl.disabled = true;  // To prevent multiple clicks.\n",
              "          quickchartButtonEl.classList.add('colab-df-spinner');\n",
              "          try {\n",
              "            const charts = await google.colab.kernel.invokeFunction(\n",
              "                'suggestCharts', [key], {});\n",
              "          } catch (error) {\n",
              "            console.error('Error during call to suggestCharts:', error);\n",
              "          }\n",
              "          quickchartButtonEl.classList.remove('colab-df-spinner');\n",
              "          quickchartButtonEl.classList.add('colab-df-quickchart-complete');\n",
              "        }\n",
              "        (() => {\n",
              "          let quickchartButtonEl =\n",
              "            document.querySelector('#df-942fa15d-ad0a-484a-b7a0-90d49996838e button');\n",
              "          quickchartButtonEl.style.display =\n",
              "            google.colab.kernel.accessAllowed ? 'block' : 'none';\n",
              "        })();\n",
              "      </script>\n",
              "    </div>\n",
              "\n",
              "    </div>\n",
              "  </div>\n"
            ],
            "application/vnd.google.colaboratory.intrinsic+json": {
              "type": "dataframe",
              "variable_name": "songs_df",
              "summary": "{\n  \"name\": \"songs_df\",\n  \"rows\": 5235,\n  \"fields\": [\n    {\n      \"column\": \"name\",\n      \"properties\": {\n        \"dtype\": \"string\",\n        \"num_unique_values\": 5011,\n        \"samples\": [\n          \"I Can See Clearly Now\",\n          \"No Se Si Fue\",\n          \"Piano Quartet in G Minor, K.478: II. Andante                                                                                                                                   \"\n        ],\n        \"semantic_type\": \"\",\n        \"description\": \"\"\n      }\n    },\n    {\n      \"column\": \"danceability\",\n      \"properties\": {\n        \"dtype\": \"number\",\n        \"std\": 257.0603718611643,\n        \"min\": 0.0,\n        \"max\": 994.0,\n        \"num_unique_values\": 841,\n        \"samples\": [\n          249.0,\n          337.0,\n          619.0\n        ],\n        \"semantic_type\": \"\",\n        \"description\": \"\"\n      }\n    },\n    {\n      \"column\": \"energy\",\n      \"properties\": {\n        \"dtype\": \"number\",\n        \"std\": 310.822230153141,\n        \"min\": 0.0,\n        \"max\": 999.0,\n        \"num_unique_values\": 913,\n        \"samples\": [\n          361.0,\n          113.0,\n          646.0\n        ],\n        \"semantic_type\": \"\",\n        \"description\": \"\"\n      }\n    },\n    {\n      \"column\": \"loudness\",\n      \"properties\": {\n        \"dtype\": \"number\",\n        \"std\": 27.04163419369015,\n        \"min\": -915.0,\n        \"max\": 788.0,\n        \"num_unique_values\": 4310,\n        \"samples\": [\n          -14.164,\n          -6.808,\n          -15.421\n        ],\n        \"semantic_type\": \"\",\n        \"description\": \"\"\n      }\n    },\n    {\n      \"column\": \"speechiness\",\n      \"properties\": {\n        \"dtype\": \"number\",\n        \"std\": 242.73166411109065,\n        \"min\": 0.0,\n        \"max\": 999.0,\n        \"num_unique_values\": 882,\n        \"samples\": [\n          284.0,\n          0.15,\n          279.0\n        ],\n        \"semantic_type\": \"\",\n        \"description\": \"\"\n      }\n    },\n    {\n      \"column\": \"acousticness\",\n      \"properties\": {\n        \"dtype\": \"number\",\n        \"std\": 341.11218978298905,\n        \"min\": 0.0,\n        \"max\": 998.0,\n        \"num_unique_values\": 1532,\n        \"samples\": [\n          104.0,\n          959.0,\n          705.0\n        ],\n        \"semantic_type\": \"\",\n        \"description\": \"\"\n      }\n    },\n    {\n      \"column\": \"instrumentalness\",\n      \"properties\": {\n        \"dtype\": \"number\",\n        \"std\": 362.9431343735368,\n        \"min\": 0.0,\n        \"max\": 999.0,\n        \"num_unique_values\": 1482,\n        \"samples\": [\n          4.86e-05,\n          0.15,\n          761.0\n        ],\n        \"semantic_type\": \"\",\n        \"description\": \"\"\n      }\n    },\n    {\n      \"column\": \"liveness\",\n      \"properties\": {\n        \"dtype\": \"number\",\n        \"std\": 298.0831836384841,\n        \"min\": 0.0,\n        \"max\": 999.0,\n        \"num_unique_values\": 890,\n        \"samples\": [\n          278.0,\n          521.0,\n          834.0\n        ],\n        \"semantic_type\": \"\",\n        \"description\": \"\"\n      }\n    },\n    {\n      \"column\": \"valence\",\n      \"properties\": {\n        \"dtype\": \"number\",\n        \"std\": 280.4173416408638,\n        \"min\": 0.0,\n        \"max\": 998.0,\n        \"num_unique_values\": 921,\n        \"samples\": [\n          566.0,\n          383.0,\n          296.0\n        ],\n        \"semantic_type\": \"\",\n        \"description\": \"\"\n      }\n    },\n    {\n      \"column\": \"tempo\",\n      \"properties\": {\n        \"dtype\": \"number\",\n        \"std\": 28.568463441414927,\n        \"min\": 0.0,\n        \"max\": 213.99,\n        \"num_unique_values\": 4824,\n        \"samples\": [\n          88.194,\n          149.91,\n          94.759\n        ],\n        \"semantic_type\": \"\",\n        \"description\": \"\"\n      }\n    },\n    {\n      \"column\": \"id\",\n      \"properties\": {\n        \"dtype\": \"string\",\n        \"num_unique_values\": 5171,\n        \"samples\": [\n          \"34xZFT7artr3SGqgSoR88L\",\n          \"4SFUB1DbDuR4pXfeuZOL08\",\n          \"4YwbSZaYeYja8Umyt222Qf\"\n        ],\n        \"semantic_type\": \"\",\n        \"description\": \"\"\n      }\n    },\n    {\n      \"column\": \"html\",\n      \"properties\": {\n        \"dtype\": \"string\",\n        \"num_unique_values\": 5171,\n        \"samples\": [\n          \"https://open.spotify.com/track/34xZFT7artr3SGqgSoR88L\",\n          \"https://open.spotify.com/track/4SFUB1DbDuR4pXfeuZOL08\",\n          \"https://open.spotify.com/track/4YwbSZaYeYja8Umyt222Qf\"\n        ],\n        \"semantic_type\": \"\",\n        \"description\": \"\"\n      }\n    },\n    {\n      \"column\": \"cluster\",\n      \"properties\": {\n        \"dtype\": \"number\",\n        \"std\": 2.8172146015901838,\n        \"min\": 0.0,\n        \"max\": 9.0,\n        \"num_unique_values\": 10,\n        \"samples\": [\n          1.0,\n          4.0,\n          7.0\n        ],\n        \"semantic_type\": \"\",\n        \"description\": \"\"\n      }\n    }\n  ]\n}"
            }
          },
          "metadata": {},
          "execution_count": 33
        }
      ]
    },
    {
      "cell_type": "code",
      "source": [
        "!pip install spotipy\n"
      ],
      "metadata": {
        "colab": {
          "base_uri": "https://localhost:8080/"
        },
        "id": "0TrHF_bmSrEc",
        "outputId": "b8e1153d-6161-4ff4-fdf6-b8b56ae99c4d"
      },
      "execution_count": null,
      "outputs": [
        {
          "output_type": "stream",
          "name": "stdout",
          "text": [
            "Requirement already satisfied: spotipy in /usr/local/lib/python3.11/dist-packages (2.25.1)\n",
            "Requirement already satisfied: redis>=3.5.3 in /usr/local/lib/python3.11/dist-packages (from spotipy) (6.0.0)\n",
            "Requirement already satisfied: requests>=2.25.0 in /usr/local/lib/python3.11/dist-packages (from spotipy) (2.32.3)\n",
            "Requirement already satisfied: urllib3>=1.26.0 in /usr/local/lib/python3.11/dist-packages (from spotipy) (2.4.0)\n",
            "Requirement already satisfied: charset-normalizer<4,>=2 in /usr/local/lib/python3.11/dist-packages (from requests>=2.25.0->spotipy) (3.4.1)\n",
            "Requirement already satisfied: idna<4,>=2.5 in /usr/local/lib/python3.11/dist-packages (from requests>=2.25.0->spotipy) (3.10)\n",
            "Requirement already satisfied: certifi>=2017.4.17 in /usr/local/lib/python3.11/dist-packages (from requests>=2.25.0->spotipy) (2025.4.26)\n"
          ]
        }
      ]
    },
    {
      "cell_type": "markdown",
      "source": [
        "# 3. Authentication with Spotify"
      ],
      "metadata": {
        "id": "v-YzT3tZbMHs"
      }
    },
    {
      "cell_type": "code",
      "source": [
        "\n",
        "\n",
        "scope = 'playlist-modify-public'\n",
        "username = 'USER'\n",
        "redirect_uri = 'xxx'\n",
        "\n",
        "# Create the auth manager\n",
        "sp_oauth = SpotifyOAuth(\n",
        "    client_id='xxx',\n",
        "    client_secret='xxx',\n",
        "    redirect_uri=redirect_uri,\n",
        "    scope=scope,\n",
        "    open_browser=False\n",
        ")\n",
        "\n",
        "# Step 1: Get the authorization URL\n",
        "auth_url = sp_oauth.get_authorize_url()\n",
        "display(HTML(f'<a href=\"{auth_url}\" target=\"_blank\">Click here to authorize Spotify access</a>'))\n",
        "\n",
        "# Step 2: After clicking, copy the full redirect URL and paste below:\n",
        "redirect_response = input(\"Paste the full redirect URL here: \")\n",
        "\n",
        "# Step 3: Extract the token\n",
        "code = sp_oauth.parse_response_code(redirect_response)\n",
        "token_info = sp_oauth.get_access_token(code, as_dict=False)\n",
        "spotifyObject = spotipy.Spotify(auth=token_info)\n",
        "\n",
        "print(\"✅ Authenticated!\")\n"
      ],
      "metadata": {
        "colab": {
          "base_uri": "https://localhost:8080/",
          "height": 90
        },
        "id": "nFnxYJ9D-vrq",
        "outputId": "6fdacb77-f657-421b-ab1e-365f1348d88b"
      },
      "execution_count": null,
      "outputs": [
        {
          "output_type": "display_data",
          "data": {
            "text/plain": [
              "<IPython.core.display.HTML object>"
            ],
            "text/html": [
              "<a href=\"https://accounts.spotify.com/authorize?client_id=8fd99879d8724e97965efc1fe772d154&response_type=code&redirect_uri=http%3A%2F%2F127.0.0.1%3A8888%2Fcallback&scope=playlist-modify-public\" target=\"_blank\">Click here to authorize Spotify access</a>"
            ]
          },
          "metadata": {}
        },
        {
          "output_type": "stream",
          "name": "stdout",
          "text": [
            "Paste the full redirect URL here: http://127.0.0.1:8888/callback?code=AQDCDjGcApWssPk-t2fQzsoTh655lG9e6vcuN_vQZVI95TSntMk0GcHrz48-LndgDDhYq3F-lyqZI6UEwcdnXFu7ldqcn0F97eVTwwOEqq7DjGwoH5d0ssARFOsUIN8Azz5vf0V-dOf_5FpTr0fOtx1Ya01Wz8TtYxA5znKf32xY4RrMOzojEX1yk0gsluUfSK7gWFF5ntvMxw\n",
            "✅ Authenticated!\n"
          ]
        }
      ]
    },
    {
      "cell_type": "markdown",
      "source": [
        "# 4. Use Playlist names from Google Doc, create loops to create lists and add names"
      ],
      "metadata": {
        "id": "zG-9TpLlbqyM"
      }
    },
    {
      "cell_type": "code",
      "source": [
        "# Define a dictionary for custom names for each cluster\n",
        "cluster_names = {\n",
        "    0: \"Classic Pop & Rock\",\n",
        "    1: \"Hip-Hop & Pop-Rock Fusion\",\n",
        "    2: \"Jazz & Neo-Classical Piano\",\n",
        "    3: \"Extreme Death Metal\",\n",
        "    4: \"Indie & World-Beat\",\n",
        "    5: \"Old-School Death Metal\",\n",
        "    6: \"Global Pop & MPB\",\n",
        "    7: \"Classical Masters\",\n",
        "    8: \"Country & Folk Rock Classics\",\n",
        "    9: \"Latin Pop & Reggaeton\",\n",
        "    10: \"Electronic & Gospel\",\n",
        "    11: \"Vintage Jazz & R&B\",\n",
        "    12: \"Deep House & Techno\",\n",
        "    13: \"Contemporary Classical & Ambient\",\n",
        "    14: \"Urban Pop & Soft Rock\",\n",
        "    15: \"Electronic & Hip-Hop Fusion\",\n",
        "    16: \"Melodic Death Metal\",\n",
        "    17: \"Electro House & Dance\",\n",
        "    18: \"Raw Death Metal\",\n",
        "    19: \"90s Death Metal\",\n",
        "    20: \"Baroque & Jazz Classics\",\n",
        "    21: \"Hardstyle\",\n",
        "    22: \"Jazz Legends & Piano Masterpieces\",\n",
        "    23: \"Vintage Pop & Chanson\",\n",
        "    24: \"Dream Pop & Indie\"\n",
        "}\n",
        "\n",
        "n_clusters = 25\n",
        "playlist_collection = {}\n",
        "for i in range(n_clusters):  # This range must match the number of clusters\n",
        "    # Use the custom name for the cluster or a fallback if the cluster number is missing\n",
        "    playlist_name = cluster_names.get(i, f\"Cluster {i}\")\n",
        "    playlist_description = f'This is a test playlist for cluster {i}'\n",
        "\n",
        "    # Create the playlist\n",
        "    playlist_id = spotifyObject.user_playlist_create(user=username,\n",
        "                                                     name=playlist_name,\n",
        "                                                     public=True,\n",
        "                                                     description=playlist_description)['id']\n",
        "\n",
        "    # Get all song IDs for the current cluster\n",
        "    id_list = list(songs_df.loc[songs_df[\"cluster25\"] == i].id)\n",
        "\n",
        "    # Skip to next iteration if there are no songs in this cluster\n",
        "    if not id_list:\n",
        "        print(f\"⚠️ No tracks to add for cluster {i}. Skipping.\")\n",
        "        continue\n",
        "\n",
        "    # Spotify needs certain text wrappers around track IDs to identify the target as a track\n",
        "    uris = [f'spotify:track:{str(id).strip()}' for id in id_list]\n",
        "\n",
        "    # Add tracks in chunks of 100\n",
        "    for i in range(0, len(uris), 100):  # Process in chunks of 100\n",
        "        uris_chunk = uris[i:i+100]\n",
        "        # Add tracks to the newly created playlist\n",
        "        spotifyObject.user_playlist_add_tracks(user=username, playlist_id=playlist_id, tracks=uris_chunk)\n",
        "        print(f\"✅ Added {len(uris_chunk)} tracks from cluster {i} to playlist '{playlist_name}'\")\n",
        "\n",
        "    playlist_collection[playlist_name] = playlist_id\n"
      ],
      "metadata": {
        "colab": {
          "base_uri": "https://localhost:8080/"
        },
        "id": "KKOvr3OhcEyh",
        "outputId": "c4706f02-5221-4a3e-9e99-39a9d4afee5c"
      },
      "execution_count": null,
      "outputs": [
        {
          "output_type": "stream",
          "name": "stdout",
          "text": [
            "✅ Added 100 tracks from cluster 0 to playlist 'Classic Pop & Rock'\n",
            "✅ Added 100 tracks from cluster 100 to playlist 'Classic Pop & Rock'\n",
            "✅ Added 34 tracks from cluster 200 to playlist 'Classic Pop & Rock'\n",
            "✅ Added 100 tracks from cluster 0 to playlist 'Hip-Hop & Pop-Rock Fusion'\n",
            "✅ Added 100 tracks from cluster 100 to playlist 'Hip-Hop & Pop-Rock Fusion'\n",
            "✅ Added 100 tracks from cluster 200 to playlist 'Hip-Hop & Pop-Rock Fusion'\n",
            "✅ Added 54 tracks from cluster 300 to playlist 'Hip-Hop & Pop-Rock Fusion'\n",
            "✅ Added 100 tracks from cluster 0 to playlist 'Jazz & Neo-Classical Piano'\n",
            "✅ Added 100 tracks from cluster 100 to playlist 'Jazz & Neo-Classical Piano'\n",
            "✅ Added 81 tracks from cluster 200 to playlist 'Jazz & Neo-Classical Piano'\n",
            "✅ Added 100 tracks from cluster 0 to playlist 'Extreme Death Metal'\n",
            "✅ Added 100 tracks from cluster 100 to playlist 'Extreme Death Metal'\n",
            "✅ Added 26 tracks from cluster 200 to playlist 'Extreme Death Metal'\n",
            "✅ Added 100 tracks from cluster 0 to playlist 'Indie & World-Beat'\n",
            "✅ Added 100 tracks from cluster 100 to playlist 'Indie & World-Beat'\n",
            "✅ Added 53 tracks from cluster 200 to playlist 'Indie & World-Beat'\n",
            "✅ Added 100 tracks from cluster 0 to playlist 'Old-School Death Metal'\n",
            "✅ Added 79 tracks from cluster 100 to playlist 'Old-School Death Metal'\n",
            "✅ Added 100 tracks from cluster 0 to playlist 'Global Pop & MPB'\n",
            "✅ Added 100 tracks from cluster 100 to playlist 'Global Pop & MPB'\n",
            "✅ Added 18 tracks from cluster 200 to playlist 'Global Pop & MPB'\n",
            "✅ Added 100 tracks from cluster 0 to playlist 'Classical Masters'\n",
            "✅ Added 15 tracks from cluster 100 to playlist 'Classical Masters'\n",
            "✅ Added 58 tracks from cluster 0 to playlist 'Country & Folk Rock Classics'\n",
            "✅ Added 96 tracks from cluster 0 to playlist 'Latin Pop & Reggaeton'\n",
            "✅ Added 100 tracks from cluster 0 to playlist 'Electronic & Gospel'\n",
            "✅ Added 51 tracks from cluster 100 to playlist 'Electronic & Gospel'\n",
            "✅ Added 100 tracks from cluster 0 to playlist 'Vintage Jazz & R&B'\n",
            "✅ Added 50 tracks from cluster 100 to playlist 'Vintage Jazz & R&B'\n",
            "✅ Added 70 tracks from cluster 0 to playlist 'Deep House & Techno'\n",
            "✅ Added 100 tracks from cluster 0 to playlist 'Contemporary Classical & Ambient'\n",
            "✅ Added 100 tracks from cluster 100 to playlist 'Contemporary Classical & Ambient'\n",
            "✅ Added 36 tracks from cluster 200 to playlist 'Contemporary Classical & Ambient'\n",
            "✅ Added 100 tracks from cluster 0 to playlist 'Urban Pop & Soft Rock'\n",
            "✅ Added 100 tracks from cluster 100 to playlist 'Urban Pop & Soft Rock'\n",
            "✅ Added 100 tracks from cluster 200 to playlist 'Urban Pop & Soft Rock'\n",
            "✅ Added 89 tracks from cluster 300 to playlist 'Urban Pop & Soft Rock'\n",
            "✅ Added 100 tracks from cluster 0 to playlist 'Electronic & Hip-Hop Fusion'\n",
            "✅ Added 100 tracks from cluster 100 to playlist 'Electronic & Hip-Hop Fusion'\n",
            "✅ Added 100 tracks from cluster 200 to playlist 'Electronic & Hip-Hop Fusion'\n",
            "✅ Added 100 tracks from cluster 300 to playlist 'Electronic & Hip-Hop Fusion'\n",
            "✅ Added 19 tracks from cluster 400 to playlist 'Electronic & Hip-Hop Fusion'\n",
            "✅ Added 100 tracks from cluster 0 to playlist 'Melodic Death Metal'\n",
            "✅ Added 100 tracks from cluster 100 to playlist 'Melodic Death Metal'\n",
            "✅ Added 100 tracks from cluster 200 to playlist 'Melodic Death Metal'\n",
            "✅ Added 53 tracks from cluster 300 to playlist 'Melodic Death Metal'\n",
            "✅ Added 84 tracks from cluster 0 to playlist 'Electro House & Dance'\n",
            "✅ Added 100 tracks from cluster 0 to playlist 'Raw Death Metal'\n",
            "✅ Added 100 tracks from cluster 100 to playlist 'Raw Death Metal'\n",
            "✅ Added 100 tracks from cluster 200 to playlist 'Raw Death Metal'\n",
            "✅ Added 8 tracks from cluster 300 to playlist 'Raw Death Metal'\n",
            "✅ Added 100 tracks from cluster 0 to playlist '90s Death Metal'\n",
            "✅ Added 14 tracks from cluster 100 to playlist '90s Death Metal'\n",
            "✅ Added 100 tracks from cluster 0 to playlist 'Baroque & Jazz Classics'\n",
            "✅ Added 78 tracks from cluster 100 to playlist 'Baroque & Jazz Classics'\n",
            "✅ Added 100 tracks from cluster 0 to playlist 'Hardstyle'\n",
            "✅ Added 100 tracks from cluster 100 to playlist 'Hardstyle'\n",
            "✅ Added 100 tracks from cluster 200 to playlist 'Hardstyle'\n",
            "✅ Added 4 tracks from cluster 300 to playlist 'Hardstyle'\n",
            "✅ Added 86 tracks from cluster 0 to playlist 'Jazz Legends & Piano Masterpieces'\n",
            "✅ Added 100 tracks from cluster 0 to playlist 'Vintage Pop & Chanson'\n",
            "✅ Added 42 tracks from cluster 100 to playlist 'Vintage Pop & Chanson'\n",
            "✅ Added 100 tracks from cluster 0 to playlist 'Dream Pop & Indie'\n",
            "✅ Added 100 tracks from cluster 100 to playlist 'Dream Pop & Indie'\n",
            "✅ Added 37 tracks from cluster 200 to playlist 'Dream Pop & Indie'\n"
          ]
        }
      ]
    },
    {
      "cell_type": "code",
      "source": [
        "# Check how many songs are in each cluster\n",
        "cluster_sizes = songs_df['cluster25'].value_counts()\n",
        "print(cluster_sizes)\n",
        "\n",
        "# To see which clusters have no tracks\n",
        "empty_clusters = cluster_sizes[cluster_sizes == 0].index.tolist()\n",
        "print(f\"Empty clusters: {empty_clusters}\")\n"
      ],
      "metadata": {
        "colab": {
          "base_uri": "https://localhost:8080/"
        },
        "id": "wFZnxkfjWdEW",
        "outputId": "8f2561db-2dfe-419c-9a9c-58f3aa636abe"
      },
      "execution_count": null,
      "outputs": [
        {
          "output_type": "stream",
          "name": "stdout",
          "text": [
            "cluster25\n",
            "15    419\n",
            "14    389\n",
            "1     354\n",
            "16    353\n",
            "18    308\n",
            "21    304\n",
            "2     281\n",
            "4     253\n",
            "24    237\n",
            "13    236\n",
            "0     234\n",
            "3     226\n",
            "6     218\n",
            "5     179\n",
            "20    178\n",
            "10    151\n",
            "11    150\n",
            "23    142\n",
            "7     115\n",
            "19    114\n",
            "9      96\n",
            "22     86\n",
            "17     84\n",
            "12     70\n",
            "8      58\n",
            "Name: count, dtype: int64\n",
            "Empty clusters: []\n"
          ]
        }
      ]
    },
    {
      "cell_type": "markdown",
      "source": [
        "## 5. Overwriting an existing playlist"
      ],
      "metadata": {
        "id": "UIZ6nPwsAcZK"
      }
    },
    {
      "cell_type": "markdown",
      "source": [
        "Authentication"
      ],
      "metadata": {
        "id": "VfuAawWScaBj"
      }
    },
    {
      "cell_type": "code",
      "source": [
        "token = SpotifyOAuth(scope=scope,\n",
        "                     username=username,\n",
        "                     client_id=client_id,\n",
        "                     client_secret=client_secret,\n",
        "                     redirect_uri=redirectUri,\n",
        "                     open_browser=False # this line is need in Colab, but not on local machine\n",
        "                     )\n",
        "spotifyObject = spotipy.Spotify(auth_manager = token)"
      ],
      "metadata": {
        "id": "L7HC9mwGAdir"
      },
      "execution_count": null,
      "outputs": []
    },
    {
      "cell_type": "code",
      "source": [
        "with open(\"./playlists.pkl\", \"rb\") as f:\n",
        "    playlist_collection = pickle.load(f)\n",
        "uris = [f'spotify:track:{str(id).strip()}' for id in songs_df.sample(10).id]\n",
        "playlist_id = playlist_collection[\"my_playlist_cluster_0\"] # We now replace the 5 songs in playlist 0 with 10 different songs\n",
        "spotifyObject.user_playlist_replace_tracks(user=username, playlist_id=playlist_id, tracks=uris)"
      ],
      "metadata": {
        "id": "lW10gzvgAglL"
      },
      "execution_count": null,
      "outputs": []
    },
    {
      "cell_type": "markdown",
      "source": [
        "6. If needed, delete playlist that start with naming \"my_playlist_cluster_\""
      ],
      "metadata": {
        "id": "WFc_r8DrciA1"
      }
    },
    {
      "cell_type": "code",
      "source": [
        "# Get all playlists of the current user\n",
        "playlists = spotifyObject.current_user_playlists(limit=50)\n",
        "\n",
        "for playlist in playlists['items']:\n",
        "    playlist_name = playlist['name']\n",
        "    playlist_id = playlist['id']\n",
        "    owner_id = playlist['owner']['id']\n",
        "\n",
        "    # Only delete your own playlists that start with the desired prefix\n",
        "    if playlist_name.startswith(\"my_playlist_cluster_\") and owner_id == username:\n",
        "        try:\n",
        "            spotifyObject.current_user_unfollow_playlist(playlist_id)\n",
        "            print(f\"✅ Deleted playlist: {playlist_name}\")\n",
        "        except Exception as e:\n",
        "            print(f\"❌ Failed to delete {playlist_name}: {e}\")\n"
      ],
      "metadata": {
        "colab": {
          "base_uri": "https://localhost:8080/"
        },
        "id": "5XWKbgzGiiQW",
        "outputId": "28302e55-062c-4751-91ed-114295694c9f"
      },
      "execution_count": null,
      "outputs": [
        {
          "output_type": "stream",
          "name": "stdout",
          "text": [
            "✅ Deleted playlist: my_playlist_cluster_22\n",
            "✅ Deleted playlist: my_playlist_cluster_24\n"
          ]
        }
      ]
    }
  ]
}